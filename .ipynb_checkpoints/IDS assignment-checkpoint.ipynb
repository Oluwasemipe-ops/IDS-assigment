{
 "cells": [
  {
   "cell_type": "code",
   "execution_count": 2,
   "id": "f193e72b",
   "metadata": {},
   "outputs": [
    {
     "name": "stdout",
     "output_type": "stream",
     "text": [
      "data shape: (32561, 15)\n",
      "number of rows: 32561\n",
      "number of cols: 15\n"
     ]
    }
   ],
   "source": [
    "import os\n",
    "import pandas as pd\n",
    "import numpy as np\n",
    "import matplotlib.pyplot as plt\n",
    "import seaborn as sns\n",
    "import time\n",
    "\n",
    "\n",
    "\n",
    "#import CSV file while removing white space from the dataset\n",
    "data = pd.read_csv(\"adult.data (1).csv\", skipinitialspace=True)\n",
    "print(\"data shape: \"+str(data.shape))\n",
    "print(\"number of rows: \"+str(data.shape[0]))\n",
    "print(\"number of cols: \"+str(data.shape[1]))"
   ]
  },
  {
   "cell_type": "code",
   "execution_count": 3,
   "id": "2c31f5f6",
   "metadata": {},
   "outputs": [
    {
     "name": "stdout",
     "output_type": "stream",
     "text": [
      "['age' 'workclass' 'fnlwgt' 'education' 'education-num' 'marital-status'\n",
      " 'occupation' 'house-serv' 'race' 'sex' 'capital-gain' 'capital-loss'\n",
      " 'hours-per-week' 'native-country' 'salary']\n"
     ]
    }
   ],
   "source": [
    "print(data.columns.values)"
   ]
  },
  {
   "cell_type": "code",
   "execution_count": 4,
   "id": "8d727b49",
   "metadata": {},
   "outputs": [
    {
     "name": "stdout",
     "output_type": "stream",
     "text": [
      "       age workclass  fnlwgt education  education-num      marital-status  \\\n",
      "13198   63   Private  225102   HS-grad              9  Married-civ-spouse   \n",
      "20000   63   Private  205246   HS-grad              9  Married-civ-spouse   \n",
      "26763   63   Private  124242   HS-grad              9  Married-civ-spouse   \n",
      "\n",
      "              occupation house-serv   race   sex  capital-gain  capital-loss  \\\n",
      "13198  Handlers-cleaners    Husband  Black  Male             0             0   \n",
      "20000  Machine-op-inspct    Husband  Black  Male             0             0   \n",
      "26763       Adm-clerical    Husband  Black  Male             0             0   \n",
      "\n",
      "       hours-per-week native-country salary  \n",
      "13198              40              ?  <=50K  \n",
      "20000              40  United-States  <=50K  \n",
      "26763              40  United-States  <=50K  \n"
     ]
    }
   ],
   "source": [
    "options = ['Private', 'HS-grad', 'Married-civ-spouse', 'Black','Male']\n",
    "\n",
    "# age: 63\n",
    "# workclass: Private\n",
    "# education: HS-grad\n",
    "# marital-status: Married-civ-spouse\n",
    "# race: Black\n",
    "# sex: Male\n",
    "\n",
    "rslt_df = data.loc[(data['age'] == 63) & (data['workclass'] == 'Private') & (data['education'] == 'HS-grad') & (data['marital-status'] == 'Married-civ-spouse') & (data['race'] == 'Black') & (data['sex'] == 'Male')]\n",
    "\n",
    "print(rslt_df)"
   ]
  },
  {
   "cell_type": "code",
   "execution_count": 5,
   "id": "dc441a5b",
   "metadata": {},
   "outputs": [
    {
     "name": "stdout",
     "output_type": "stream",
     "text": [
      "number of rows which match Background Knowledge: 3\n"
     ]
    }
   ],
   "source": [
    "print(\"number of rows which match Background Knowledge: \"+str(rslt_df.shape[0]))"
   ]
  },
  {
   "cell_type": "code",
   "execution_count": 6,
   "id": "c0ae0076",
   "metadata": {},
   "outputs": [
    {
     "name": "stdout",
     "output_type": "stream",
     "text": [
      "       age workclass  fnlwgt education  education-num      marital-status  \\\n",
      "20000   63   Private  205246   HS-grad              9  Married-civ-spouse   \n",
      "\n",
      "              occupation house-serv   race   sex  capital-gain  capital-loss  \\\n",
      "20000  Machine-op-inspct    Husband  Black  Male             0             0   \n",
      "\n",
      "       hours-per-week native-country salary  \n",
      "20000              40  United-States  <=50K  \n"
     ]
    }
   ],
   "source": [
    "add_info = rslt_df.loc[data['occupation'] == 'Machine-op-inspct']\n",
    "print(add_info)"
   ]
  },
  {
   "cell_type": "code",
   "execution_count": 7,
   "id": "cd9a2e4b",
   "metadata": {},
   "outputs": [
    {
     "name": "stdout",
     "output_type": "stream",
     "text": [
      "number of rows which match Background Knowledge after adding occupation : 1\n"
     ]
    }
   ],
   "source": [
    "print(\"number of rows which match Background Knowledge after adding occupation : \"+str(add_info.shape[0]))"
   ]
  },
  {
   "cell_type": "code",
   "execution_count": 10,
   "id": "8d609ff1",
   "metadata": {},
   "outputs": [
    {
     "name": "stdout",
     "output_type": "stream",
     "text": [
      "QUESTION 2\n"
     ]
    }
   ],
   "source": [
    "print('QUESTION 2') "
   ]
  },
  {
   "cell_type": "code",
   "execution_count": 11,
   "id": "5b56421b",
   "metadata": {},
   "outputs": [
    {
     "name": "stdout",
     "output_type": "stream",
     "text": [
      "data shape: (10000, 41)\n",
      "number of rows: 10000\n",
      "number of cols: 41\n"
     ]
    }
   ],
   "source": [
    "data2 = pd.read_csv(\"purchase-rest.csv\", skipinitialspace=True)\n",
    "\n",
    "print(\"data shape: \"+str(data2.shape))\n",
    "print(\"number of rows: \"+str(data2.shape[0]))\n",
    "print(\"number of cols: \"+str(data2.shape[1]))"
   ]
  },
  {
   "cell_type": "code",
   "execution_count": null,
   "id": "bb5eda4a",
   "metadata": {},
   "outputs": [],
   "source": []
  }
 ],
 "metadata": {
  "kernelspec": {
   "display_name": "Python 3",
   "language": "python",
   "name": "python3"
  },
  "language_info": {
   "codemirror_mode": {
    "name": "ipython",
    "version": 3
   },
   "file_extension": ".py",
   "mimetype": "text/x-python",
   "name": "python",
   "nbconvert_exporter": "python",
   "pygments_lexer": "ipython3",
   "version": "3.9.0"
  }
 },
 "nbformat": 4,
 "nbformat_minor": 5
}
