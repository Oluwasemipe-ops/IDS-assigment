{
 "cells": [
  {
   "cell_type": "code",
   "execution_count": 78,
   "metadata": {},
   "outputs": [
    {
     "name": "stdout",
     "output_type": "stream",
     "text": [
      "data shape: (32561, 15)\n",
      "number of rows: 32561\n",
      "number of cols: 15\n"
     ]
    }
   ],
   "source": [
    "import os\n",
    "import pandas as pd\n",
    "import numpy as np\n",
    "import matplotlib.pyplot as plt\n",
    "import seaborn as sns\n",
    "import time\n",
    "\n",
    "\n",
    "data = pd.read_csv(\"adult.data (1).csv\")\n",
    "print(\"data shape: \"+str(data.shape))\n",
    "print(\"number of rows: \"+str(data.shape[0]))\n",
    "print(\"number of cols: \"+str(data.shape[1]))"
   ]
  },
  {
   "cell_type": "code",
   "execution_count": 74,
   "metadata": {},
   "outputs": [
    {
     "name": "stdout",
     "output_type": "stream",
     "text": [
      "['age' 'workclass' 'fnlwgt' 'education' 'education-num' 'marital-status'\n",
      " 'occupation' 'house-serv' 'race' 'sex' 'capital-gain' 'capital-loss'\n",
      " 'hours-per-week' 'native-country' 'salary']\n"
     ]
    }
   ],
   "source": [
    "print(data.columns.values)"
   ]
  },
  {
   "cell_type": "code",
   "execution_count": 87,
   "metadata": {},
   "outputs": [
    {
     "name": "stdout",
     "output_type": "stream",
     "text": [
      "       age workclass  fnlwgt      education  education-num  \\\n",
      "2       38   Private  215646        HS-grad              9   \n",
      "3       53   Private  234721           11th              7   \n",
      "4       28   Private  338409      Bachelors             13   \n",
      "5       37   Private  284582        Masters             14   \n",
      "6       49   Private  160187            9th              5   \n",
      "...    ...       ...     ...            ...            ...   \n",
      "32555   22   Private  310152   Some-college             10   \n",
      "32556   27   Private  257302     Assoc-acdm             12   \n",
      "32557   40   Private  154374        HS-grad              9   \n",
      "32558   58   Private  151910        HS-grad              9   \n",
      "32559   22   Private  201490        HS-grad              9   \n",
      "\n",
      "               marital-status          occupation      house-serv    race  \\\n",
      "2                    Divorced   Handlers-cleaners   Not-in-family   White   \n",
      "3          Married-civ-spouse   Handlers-cleaners         Husband   Black   \n",
      "4          Married-civ-spouse      Prof-specialty            Wife   Black   \n",
      "5          Married-civ-spouse     Exec-managerial            Wife   White   \n",
      "6       Married-spouse-absent       Other-service   Not-in-family   Black   \n",
      "...                       ...                 ...             ...     ...   \n",
      "32555           Never-married     Protective-serv   Not-in-family   White   \n",
      "32556      Married-civ-spouse        Tech-support            Wife   White   \n",
      "32557      Married-civ-spouse   Machine-op-inspct         Husband   White   \n",
      "32558                 Widowed        Adm-clerical       Unmarried   White   \n",
      "32559           Never-married        Adm-clerical       Own-child   White   \n",
      "\n",
      "           sex  capital-gain  capital-loss  hours-per-week  native-country  \\\n",
      "2         Male             0             0              40   United-States   \n",
      "3         Male             0             0              40   United-States   \n",
      "4       Female             0             0              40            Cuba   \n",
      "5       Female             0             0              40   United-States   \n",
      "6       Female             0             0              16         Jamaica   \n",
      "...        ...           ...           ...             ...             ...   \n",
      "32555     Male             0             0              40   United-States   \n",
      "32556   Female             0             0              38   United-States   \n",
      "32557     Male             0             0              40   United-States   \n",
      "32558   Female             0             0              40   United-States   \n",
      "32559     Male             0             0              20   United-States   \n",
      "\n",
      "       salary  \n",
      "2       <=50K  \n",
      "3       <=50K  \n",
      "4       <=50K  \n",
      "5       <=50K  \n",
      "6       <=50K  \n",
      "...       ...  \n",
      "32555   <=50K  \n",
      "32556   <=50K  \n",
      "32557    >50K  \n",
      "32558   <=50K  \n",
      "32559   <=50K  \n",
      "\n",
      "[22696 rows x 15 columns]\n"
     ]
    }
   ],
   "source": [
    "options = ['Private', 'HS-grad', 'Married-civ-spouse', 'Black','Male']\n",
    "\n",
    "data['workclass'] = data['workclass'].replace('\\s+', ' ', regex=True)\n",
    "\n",
    "\n",
    "rslt_df = data.loc[data['workclass'] == ' Private']\n",
    "\n",
    "print(rslt_df)"
   ]
  },
  {
   "cell_type": "code",
   "execution_count": null,
   "metadata": {},
   "outputs": [],
   "source": []
  },
  {
   "cell_type": "code",
   "execution_count": null,
   "metadata": {},
   "outputs": [],
   "source": []
  },
  {
   "cell_type": "code",
   "execution_count": null,
   "metadata": {},
   "outputs": [],
   "source": []
  },
  {
   "cell_type": "code",
   "execution_count": null,
   "metadata": {},
   "outputs": [],
   "source": []
  },
  {
   "cell_type": "code",
   "execution_count": null,
   "metadata": {},
   "outputs": [],
   "source": []
  },
  {
   "cell_type": "code",
   "execution_count": null,
   "metadata": {},
   "outputs": [],
   "source": []
  }
 ],
 "metadata": {
  "kernelspec": {
   "display_name": "Python 3",
   "language": "python",
   "name": "python3"
  },
  "language_info": {
   "codemirror_mode": {
    "name": "ipython",
    "version": 3
   },
   "file_extension": ".py",
   "mimetype": "text/x-python",
   "name": "python",
   "nbconvert_exporter": "python",
   "pygments_lexer": "ipython3",
   "version": "3.8.5"
  }
 },
 "nbformat": 4,
 "nbformat_minor": 5
}
