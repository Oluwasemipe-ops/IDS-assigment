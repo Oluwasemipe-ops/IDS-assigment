{
 "cells": [
  {
   "cell_type": "code",
   "execution_count": 2,
   "id": "f193e72b",
   "metadata": {},
   "outputs": [
    {
     "name": "stdout",
     "output_type": "stream",
     "text": [
      "data shape: (32561, 15)\n",
      "number of rows: 32561\n",
      "number of cols: 15\n"
     ]
    }
   ],
   "source": [
    "import os\n",
    "import pandas as pd\n",
    "import numpy as np\n",
    "import matplotlib.pyplot as plt\n",
    "import seaborn as sns\n",
    "import time\n",
    "from sklearn.metrics import jaccard_score\n",
    "\n",
    "\n",
    "#import CSV file while removing white space from the dataset\n",
    "data = pd.read_csv(\"adult.data (1).csv\", skipinitialspace=True)\n",
    "print(\"data shape: \"+str(data.shape))\n",
    "print(\"number of rows: \"+str(data.shape[0]))\n",
    "print(\"number of cols: \"+str(data.shape[1]))"
   ]
  },
  {
   "cell_type": "code",
   "execution_count": 3,
   "id": "2c31f5f6",
   "metadata": {},
   "outputs": [
    {
     "name": "stdout",
     "output_type": "stream",
     "text": [
      "['age' 'workclass' 'fnlwgt' 'education' 'education-num' 'marital-status'\n",
      " 'occupation' 'house-serv' 'race' 'sex' 'capital-gain' 'capital-loss'\n",
      " 'hours-per-week' 'native-country' 'salary']\n"
     ]
    }
   ],
   "source": [
    "print(data.columns.values)"
   ]
  },
  {
   "cell_type": "code",
   "execution_count": 4,
   "id": "8d727b49",
   "metadata": {},
   "outputs": [
    {
     "name": "stdout",
     "output_type": "stream",
     "text": [
      "       age workclass  fnlwgt education  education-num      marital-status  \\\n",
      "13198   63   Private  225102   HS-grad              9  Married-civ-spouse   \n",
      "20000   63   Private  205246   HS-grad              9  Married-civ-spouse   \n",
      "26763   63   Private  124242   HS-grad              9  Married-civ-spouse   \n",
      "\n",
      "              occupation house-serv   race   sex  capital-gain  capital-loss  \\\n",
      "13198  Handlers-cleaners    Husband  Black  Male             0             0   \n",
      "20000  Machine-op-inspct    Husband  Black  Male             0             0   \n",
      "26763       Adm-clerical    Husband  Black  Male             0             0   \n",
      "\n",
      "       hours-per-week native-country salary  \n",
      "13198              40              ?  <=50K  \n",
      "20000              40  United-States  <=50K  \n",
      "26763              40  United-States  <=50K  \n"
     ]
    }
   ],
   "source": [
    "options = ['Private', 'HS-grad', 'Married-civ-spouse', 'Black','Male']\n",
    "\n",
    "# age: 63\n",
    "# workclass: Private\n",
    "# education: HS-grad\n",
    "# marital-status: Married-civ-spouse\n",
    "# race: Black\n",
    "# sex: Male\n",
    "\n",
    "rslt_df = data.loc[(data['age'] == 63) & (data['workclass'] == 'Private') & (data['education'] == 'HS-grad') & (data['marital-status'] == 'Married-civ-spouse') & (data['race'] == 'Black') & (data['sex'] == 'Male')]\n",
    "\n",
    "print(rslt_df)"
   ]
  },
  {
   "cell_type": "code",
   "execution_count": 5,
   "id": "dc441a5b",
   "metadata": {},
   "outputs": [
    {
     "name": "stdout",
     "output_type": "stream",
     "text": [
      "number of rows which match Background Knowledge: 3\n"
     ]
    }
   ],
   "source": [
    "print(\"number of rows which match Background Knowledge: \"+str(rslt_df.shape[0]))"
   ]
  },
  {
   "cell_type": "code",
   "execution_count": 6,
   "id": "c0ae0076",
   "metadata": {},
   "outputs": [
    {
     "name": "stdout",
     "output_type": "stream",
     "text": [
      "       age workclass  fnlwgt education  education-num      marital-status  \\\n",
      "20000   63   Private  205246   HS-grad              9  Married-civ-spouse   \n",
      "\n",
      "              occupation house-serv   race   sex  capital-gain  capital-loss  \\\n",
      "20000  Machine-op-inspct    Husband  Black  Male             0             0   \n",
      "\n",
      "       hours-per-week native-country salary  \n",
      "20000              40  United-States  <=50K  \n"
     ]
    }
   ],
   "source": [
    "add_info = rslt_df.loc[data['occupation'] == 'Machine-op-inspct']\n",
    "print(add_info)"
   ]
  },
  {
   "cell_type": "code",
   "execution_count": 7,
   "id": "cd9a2e4b",
   "metadata": {},
   "outputs": [
    {
     "name": "stdout",
     "output_type": "stream",
     "text": [
      "number of rows which match Background Knowledge after adding occupation : 1\n"
     ]
    }
   ],
   "source": [
    "print(\"number of rows which match Background Knowledge after adding occupation : \"+str(add_info.shape[0]))"
   ]
  },
  {
   "cell_type": "code",
   "execution_count": 8,
   "id": "8d609ff1",
   "metadata": {},
   "outputs": [
    {
     "name": "stdout",
     "output_type": "stream",
     "text": [
      "QUESTION 2\n"
     ]
    }
   ],
   "source": [
    "print('QUESTION 2') "
   ]
  },
  {
   "cell_type": "code",
   "execution_count": 9,
   "id": "5b56421b",
   "metadata": {},
   "outputs": [
    {
     "name": "stdout",
     "output_type": "stream",
     "text": [
      "data shape: (10000, 41)\n",
      "number of rows: 10000\n",
      "number of cols: 41\n",
      "\n",
      "QUESTION 2B ANSWER\n",
      "\n",
      "[1 1 1 1 1 1 0 1 1 1 1 1 1 0 1 1 1 1 1 1 1 1 1 1 1 1 1 1 0 1 1 0 0 1 1 1 1\n",
      " 1 1 1]\n",
      "[1 0 1 1 0 0 1 0 0 0 0 0 0 0 0 0 1 1 0 0 0 0 1 0 1 1 1 1 0 1 0 0 0 0 1 1 0\n",
      " 0 0 0]\n"
     ]
    },
    {
     "data": {
      "text/plain": [
       "0.3611111111111111"
      ]
     },
     "execution_count": 9,
     "metadata": {},
     "output_type": "execute_result"
    }
   ],
   "source": [
    "data2 = pd.read_csv(\"purchase-rest.csv\", skipinitialspace=True)\n",
    "\n",
    "Bob_data = pd.read_csv(\"bob.csv\", skipinitialspace=True) \n",
    "\n",
    "\n",
    "print(\"data shape: \"+str(data2.shape))\n",
    "print(\"number of rows: \"+str(data2.shape[0]))\n",
    "print(\"number of cols: \"+str(data2.shape[1]))\n",
    "\n",
    "\n",
    "data2.drop('user', inplace=True, axis=1)\n",
    "\n",
    "Bob_data.drop('user', inplace=True, axis=1)\n",
    "\n",
    "\n",
    "base = np.array(data2)\n",
    "\n",
    "# print(array1[1])\n",
    "\n",
    "print(\"\\nQUESTION 2B ANSWER\\n\")\n",
    "\n",
    "y_true = base[1]\n",
    "y_pred = base[2]\n",
    "\n",
    "print(y_true)\n",
    "print(y_pred)\n",
    "jaccard_score(y_true, y_pred)"
   ]
  },
  {
   "cell_type": "code",
   "execution_count": 29,
   "id": "bb5eda4a",
   "metadata": {},
   "outputs": [
    {
     "name": "stdout",
     "output_type": "stream",
     "text": [
      "\n",
      "QUESTION 2C and D ANSWER\n",
      "\n",
      "The Row Index for the Highest Jaccard score is: 692\n",
      "The Row Index for the Second Highest Jaccard score is: 6\n",
      "The Items bought for the Highest jaccard score are items: [1, 2, 6, 17, 18, 20, 22, 26, 38, 39]\n",
      "The Items bought for the second Highest Jaccard score are items:  [1, 4, 13, 17, 18, 19, 34, 36, 38]\n",
      "The jaccard scores of the Top two Rows are: 0.5833333333333334 and  0.5 Respectively\n"
     ]
    }
   ],
   "source": [
    "print(\"\\nQUESTION 2C and D ANSWER\\n\")\n",
    "\n",
    "array2= np.array(Bob_data)\n",
    "\n",
    "\n",
    "y_true = array2[0]\n",
    "\n",
    "result = []\n",
    "trial = {}\n",
    "\n",
    "for x in range(1000):\n",
    "    y_pred = base[x]\n",
    "    solution = jaccard_score(y_true,y_pred)\n",
    "    trial[x] = solution\n",
    "    result.append(solution)\n",
    "    \n",
    "\n",
    "value_check = trial\n",
    "\n",
    "\n",
    "Max_no1 = sorted(trial.values())[-1]\n",
    "\n",
    "\n",
    "Max_no2 = sorted(trial.values())[-2]\n",
    "\n",
    "\n",
    "key_list = list(trial.keys())\n",
    "val_list = list(trial.values())\n",
    "\n",
    "\n",
    "position1 = val_list.index(Max_no1)\n",
    "Row_index1=key_list[position1]\n",
    "\n",
    "position2 = val_list.index(Max_no2)\n",
    "Row_index2 = key_list[position2]\n",
    "\n",
    "\n",
    "print(\"The Row Index for the Highest Jaccard score is:\", Row_index1 )\n",
    "print(\"The Row Index for the Second Highest Jaccard score is:\", Row_index2 )\n",
    "\n",
    "Good_Bought_1 = []\n",
    "Good_Bought_2 = []\n",
    "\n",
    "for i in range(40):\n",
    "    if base[Row_index1][i] == 1:\n",
    "        Score = i+1\n",
    "        Good_Bought_1.append(Score)\n",
    "        \n",
    "print(\"The Items bought for the Highest jaccard score are items:\", Good_Bought_1)\n",
    "\n",
    "for i in range(40):\n",
    "    if base[Row_index2][i] == 1:\n",
    "        Score = i+1\n",
    "        Good_Bought_2.append(Score)\n",
    "        \n",
    "\n",
    "print(\"The Items bought for the second Highest Jaccard score are items: \", Good_Bought_2)\n",
    "\n",
    "print(\"The jaccard scores of the Top two Rows are:\", Max_no1, \"and \", Max_no2 , \"Respectively\")"
   ]
  },
  {
   "cell_type": "code",
   "execution_count": null,
   "id": "fb7ee436",
   "metadata": {},
   "outputs": [],
   "source": []
  },
  {
   "cell_type": "code",
   "execution_count": null,
   "id": "scientific-protest",
   "metadata": {},
   "outputs": [],
   "source": []
  }
 ],
 "metadata": {
  "kernelspec": {
   "display_name": "Python 3",
   "language": "python",
   "name": "python3"
  },
  "language_info": {
   "codemirror_mode": {
    "name": "ipython",
    "version": 3
   },
   "file_extension": ".py",
   "mimetype": "text/x-python",
   "name": "python",
   "nbconvert_exporter": "python",
   "pygments_lexer": "ipython3",
   "version": "3.9.0"
  }
 },
 "nbformat": 4,
 "nbformat_minor": 5
}
