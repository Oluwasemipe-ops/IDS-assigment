{
 "cells": [
  {
   "cell_type": "code",
   "execution_count": null,
   "id": "d426b78d",
   "metadata": {},
   "outputs": [],
   "source": [
    "                                      ARANSIOLA OLUWASEMIPE GENESIS\n",
    "\n",
    "                                                 46242937\n",
    "                                                \n",
    "                                            COMP8320 Assignment 1\n",
    "\n",
    "                              (https://github.com/Oluwasemipe-ops/IDS-assigment)"
   ]
  },
  {
   "cell_type": "code",
   "execution_count": 108,
   "id": "f193e72b",
   "metadata": {},
   "outputs": [
    {
     "name": "stdout",
     "output_type": "stream",
     "text": [
      "data shape: (32561, 15)\n",
      "number of rows: 32561\n",
      "number of cols: 15\n"
     ]
    }
   ],
   "source": [
    "import pixiedust\n",
    "import os\n",
    "import pandas as pd\n",
    "import numpy as np\n",
    "import matplotlib.pyplot as plt\n",
    "import seaborn as sns\n",
    "import time\n",
    "import sklearn\n",
    "import random\n",
    "from sklearn.metrics import jaccard_score\n",
    "\n",
    "\n",
    "#import CSV file while removing white space from the dataset\n",
    "data = pd.read_csv(\"adult.data (1).csv\", skipinitialspace=True)\n",
    "print(\"data shape: \"+str(data.shape))\n",
    "print(\"number of rows: \"+str(data.shape[0]))\n",
    "print(\"number of cols: \"+str(data.shape[1]))"
   ]
  },
  {
   "cell_type": "code",
   "execution_count": 109,
   "id": "2c31f5f6",
   "metadata": {},
   "outputs": [
    {
     "name": "stdout",
     "output_type": "stream",
     "text": [
      "['age' 'workclass' 'fnlwgt' 'education' 'education-num' 'marital-status'\n",
      " 'occupation' 'house-serv' 'race' 'sex' 'capital-gain' 'capital-loss'\n",
      " 'hours-per-week' 'native-country' 'salary']\n"
     ]
    }
   ],
   "source": [
    "print(data.columns.values)"
   ]
  },
  {
   "cell_type": "code",
   "execution_count": 110,
   "id": "8d727b49",
   "metadata": {},
   "outputs": [
    {
     "name": "stdout",
     "output_type": "stream",
     "text": [
      "       age workclass  fnlwgt education  education-num      marital-status  \\\n",
      "13198   63   Private  225102   HS-grad              9  Married-civ-spouse   \n",
      "20000   63   Private  205246   HS-grad              9  Married-civ-spouse   \n",
      "26763   63   Private  124242   HS-grad              9  Married-civ-spouse   \n",
      "\n",
      "              occupation house-serv   race   sex  capital-gain  capital-loss  \\\n",
      "13198  Handlers-cleaners    Husband  Black  Male             0             0   \n",
      "20000  Machine-op-inspct    Husband  Black  Male             0             0   \n",
      "26763       Adm-clerical    Husband  Black  Male             0             0   \n",
      "\n",
      "       hours-per-week native-country salary  \n",
      "13198              40              ?  <=50K  \n",
      "20000              40  United-States  <=50K  \n",
      "26763              40  United-States  <=50K  \n"
     ]
    }
   ],
   "source": [
    "options = ['Private', 'HS-grad', 'Married-civ-spouse', 'Black','Male']\n",
    "\n",
    "# age: 63\n",
    "# workclass: Private\n",
    "# education: HS-grad\n",
    "# marital-status: Married-civ-spouse\n",
    "# race: Black\n",
    "# sex: Male\n",
    "\n",
    "rslt_df = data.loc[(data['age'] == 63) & (data['workclass'] == 'Private') & (data['education'] == 'HS-grad') & (data['marital-status'] == 'Married-civ-spouse') & (data['race'] == 'Black') & (data['sex'] == 'Male')]\n",
    "\n",
    "print(rslt_df)"
   ]
  },
  {
   "cell_type": "code",
   "execution_count": 111,
   "id": "dc441a5b",
   "metadata": {},
   "outputs": [
    {
     "name": "stdout",
     "output_type": "stream",
     "text": [
      "number of rows which match Background Knowledge: 3\n"
     ]
    }
   ],
   "source": [
    "print(\"number of rows which match Background Knowledge: \"+str(rslt_df.shape[0]))"
   ]
  },
  {
   "cell_type": "code",
   "execution_count": 112,
   "id": "c0ae0076",
   "metadata": {},
   "outputs": [
    {
     "name": "stdout",
     "output_type": "stream",
     "text": [
      "       age workclass  fnlwgt education  education-num      marital-status  \\\n",
      "20000   63   Private  205246   HS-grad              9  Married-civ-spouse   \n",
      "\n",
      "              occupation house-serv   race   sex  capital-gain  capital-loss  \\\n",
      "20000  Machine-op-inspct    Husband  Black  Male             0             0   \n",
      "\n",
      "       hours-per-week native-country salary  \n",
      "20000              40  United-States  <=50K  \n"
     ]
    }
   ],
   "source": [
    "add_info = rslt_df.loc[data['occupation'] == 'Machine-op-inspct']\n",
    "print(add_info)"
   ]
  },
  {
   "cell_type": "code",
   "execution_count": 113,
   "id": "cd9a2e4b",
   "metadata": {},
   "outputs": [
    {
     "name": "stdout",
     "output_type": "stream",
     "text": [
      "number of rows which match Background Knowledge after adding occupation : 1\n"
     ]
    }
   ],
   "source": [
    "print(\"number of rows which match Background Knowledge after adding occupation : \"+str(add_info.shape[0]))"
   ]
  },
  {
   "cell_type": "code",
   "execution_count": 114,
   "id": "8d609ff1",
   "metadata": {},
   "outputs": [
    {
     "name": "stdout",
     "output_type": "stream",
     "text": [
      "QUESTION 2\n"
     ]
    }
   ],
   "source": [
    "print('QUESTION 2') "
   ]
  },
  {
   "cell_type": "code",
   "execution_count": 115,
   "id": "5b56421b",
   "metadata": {},
   "outputs": [
    {
     "name": "stdout",
     "output_type": "stream",
     "text": [
      "data shape: (10000, 41)\n",
      "number of rows: 10000\n",
      "number of cols: 41\n",
      "\n",
      "QUESTION 2A ANSWER\n",
      "\n",
      "[0, 3, 5, 11, 12, 13, 14, 18, 19, 20, 21]\n",
      "\n",
      "QUESTION 2B ANSWER\n",
      "\n",
      "The jaccard score is: 0.3611111111111111\n"
     ]
    }
   ],
   "source": [
    "data2 = pd.read_csv(\"purchase-rest.csv\", skipinitialspace=True)\n",
    "\n",
    "Bob_data = pd.read_csv(\"bob.csv\", skipinitialspace=True) \n",
    "\n",
    "\n",
    "print(\"data shape: \"+str(data2.shape))\n",
    "print(\"number of rows: \"+str(data2.shape[0]))\n",
    "print(\"number of cols: \"+str(data2.shape[1]))\n",
    "\n",
    "print(\"\\nQUESTION 2A ANSWER\\n\")\n",
    "\n",
    "pseudo_data = [1,0,0,1,0,1,0,0,0,0,0,1,1,1,1,0,0,0,1,1,1,1,0]\n",
    "\n",
    "label_1 =[]\n",
    "\n",
    "count_array = len(pseudo_data)\n",
    "\n",
    "# print(count_array)\n",
    "\n",
    "for i in range(count_array):\n",
    "    if pseudo_data[i] == 1:\n",
    "        Score = i\n",
    "        label_1.append(Score)\n",
    "        \n",
    "\n",
    "print(label_1)\n",
    "\n",
    "\n",
    "\n",
    "data2.drop('user', inplace=True, axis=1)\n",
    "\n",
    "Bob_data.drop('user', inplace=True, axis=1)\n",
    "\n",
    "\n",
    "base = np.array(data2)\n",
    "\n",
    "# print(array1[1])\n",
    "\n",
    "print(\"\\nQUESTION 2B ANSWER\\n\")\n",
    "\n",
    "y_true = base[1]\n",
    "y_pred = base[2]\n",
    "\n",
    "# print(y_true)\n",
    "# print(y_pred)\n",
    "print(\"The jaccard score is:\" ,jaccard_score(y_true, y_pred))"
   ]
  },
  {
   "cell_type": "code",
   "execution_count": 116,
   "id": "bb5eda4a",
   "metadata": {},
   "outputs": [
    {
     "name": "stdout",
     "output_type": "stream",
     "text": [
      "\n",
      "QUESTION 2C and D ANSWER\n",
      "\n",
      "\n",
      "The Row Index for the Highest Jaccard score is: 9400\n",
      "\n",
      "The Row Index for the Second Highest Jaccard score is: 4688\n",
      "\n",
      "The Items bought for the Highest jaccard score are items: [1, 2, 3, 4, 17, 18, 20, 38, 39]\n",
      "\n",
      "The Items bought for the second Highest Jaccard score are items:  [1, 2, 4, 9, 17, 18, 20, 26, 27, 36, 38, 39]\n",
      "\n",
      "The jaccard scores of the Top two Rows are: 0.8 and  0.6153846153846154 Respectively\n"
     ]
    }
   ],
   "source": [
    "print(\"\\nQUESTION 2C and D ANSWER\\n\")\n",
    "\n",
    "# Fetch Bob's data and assign into an array.\n",
    "array2= np.array(Bob_data)\n",
    "\n",
    "# Setting the value need for jaccard's score from Bob's data\n",
    "y_true = array2[0]\n",
    "\n",
    "result = []\n",
    "trial = {}\n",
    "\n",
    "for x in range(10000):\n",
    "    y_pred = base[x]\n",
    "    solution = jaccard_score(y_true,y_pred)\n",
    "    trial[x] = solution\n",
    "    result.append(solution)\n",
    "    \n",
    "\n",
    "value_check = trial\n",
    "\n",
    "\n",
    "Max_no1 = sorted(trial.values())[-1]\n",
    "\n",
    "\n",
    "Max_no2 = sorted(trial.values())[-2]\n",
    "\n",
    "\n",
    "key_list = list(trial.keys())\n",
    "val_list = list(trial.values())\n",
    "\n",
    "\n",
    "position1 = val_list.index(Max_no1)\n",
    "Row_index1=key_list[position1]\n",
    "\n",
    "position2 = val_list.index(Max_no2)\n",
    "Row_index2 = key_list[position2]\n",
    "\n",
    "\n",
    "print(\"\\nThe Row Index for the Highest Jaccard score is:\", Row_index1 )\n",
    "print(\"\\nThe Row Index for the Second Highest Jaccard score is:\", Row_index2 )\n",
    "\n",
    "Good_Bought_1 = []\n",
    "Good_Bought_2 = []\n",
    "\n",
    "for i in range(40):\n",
    "    if base[Row_index1][i] == 1:\n",
    "        Score = i+1\n",
    "        Good_Bought_1.append(Score)\n",
    "        \n",
    "print(\"\\nThe Items bought for the Highest jaccard score are items:\", Good_Bought_1)\n",
    "\n",
    "for i in range(40):\n",
    "    if base[Row_index2][i] == 1:\n",
    "        Score = i+1\n",
    "        Good_Bought_2.append(Score)\n",
    "        \n",
    "\n",
    "print(\"\\nThe Items bought for the second Highest Jaccard score are items: \", Good_Bought_2)\n",
    "\n",
    "print(\"\\nThe jaccard scores of the Top two Rows are:\", Max_no1, \"and \", Max_no2 , \"Respectively\")"
   ]
  },
  {
   "cell_type": "code",
   "execution_count": 117,
   "id": "fb7ee436",
   "metadata": {},
   "outputs": [
    {
     "name": "stdout",
     "output_type": "stream",
     "text": [
      "\n",
      "QUESTION 3 \n",
      "\n",
      "data shape: (32561, 15)\n",
      "number of rows: 32561\n",
      "number of cols: 15\n",
      "        race     sex salary\n",
      "0      White    Male  <=50K\n",
      "1      White    Male  <=50K\n",
      "2      White    Male  <=50K\n",
      "3      Black    Male  <=50K\n",
      "4      Black  Female  <=50K\n",
      "...      ...     ...    ...\n",
      "32556  White  Female  <=50K\n",
      "32557  White    Male   >50K\n",
      "32558  White  Female  <=50K\n",
      "32559  White    Male  <=50K\n",
      "32560  White  Female   >50K\n",
      "\n",
      "[32561 rows x 3 columns]\n"
     ]
    }
   ],
   "source": [
    "print(\"\\nQUESTION 3 \\n\")\n",
    "\n",
    "\n",
    "#import CSV file while removing white space from the dataset\n",
    "data_rest = pd.read_csv(\"adult-rest.csv\", skipinitialspace=True)\n",
    "print(\"data shape: \"+str(data.shape))\n",
    "print(\"number of rows: \"+str(data.shape[0]))\n",
    "print(\"number of cols: \"+str(data.shape[1]))\n",
    "\n",
    "print(data_rest)\n"
   ]
  },
  {
   "cell_type": "code",
   "execution_count": 118,
   "id": "scientific-protest",
   "metadata": {},
   "outputs": [
    {
     "name": "stdout",
     "output_type": "stream",
     "text": [
      "        race     sex salary\n",
      "18470  White  Female  <=50K\n",
      "31727  White    Male   >50K\n",
      "11821  White    Male  <=50K\n",
      "14498  White    Male  <=50K\n",
      "9543   Other    Male  <=50K\n",
      "...      ...     ...    ...\n",
      "2684   White    Male  <=50K\n",
      "608    Black    Male  <=50K\n",
      "26607  White  Female  <=50K\n",
      "22836  White  Female  <=50K\n",
      "21272  White    Male  <=50K\n",
      "\n",
      "[32561 rows x 3 columns]\n"
     ]
    }
   ],
   "source": [
    "df_shuffled=sklearn.utils.shuffle(data_rest)\n",
    "print(df_shuffled)"
   ]
  },
  {
   "cell_type": "code",
   "execution_count": 119,
   "id": "5029bfd5",
   "metadata": {
    "pixiedust": {
     "displayParams": {}
    }
   },
   "outputs": [
    {
     "name": "stdout",
     "output_type": "stream",
     "text": [
      "The Output is : []\n",
      "\n",
      "Question 3C\n",
      " \n",
      "The Threshold in step 7 of the algorithm is:  56.262042231857095\n"
     ]
    }
   ],
   "source": [
    "# %%pixie_debugger\n",
    "\n",
    "epsilon = 0.5\n",
    "Delta = pow(10,-12)\n",
    "\n",
    "D_input = pd.DataFrame(df_shuffled)\n",
    "\n",
    "\n",
    "def Stab_histogram(D_input):\n",
    "    \n",
    "    D_output = []\n",
    "    d_random = []\n",
    "    \n",
    "    for index, row in D_input.iterrows():\n",
    "        \n",
    "        qD = random.random()\n",
    "        \n",
    "        if qD == 0:\n",
    "            ax = 0\n",
    "            \n",
    "        if qD > 0:\n",
    "            ax = qD + np.random.laplace(1/epsilon)\n",
    "            if ax < (np.log(1/Delta)/epsilon+1):\n",
    "                ax = 0\n",
    "            else:\n",
    "                ax = round(ax)\n",
    "                \n",
    "        if ax > 0:\n",
    "            D_output.append([row]*ax)\n",
    "            \n",
    "    return D_output\n",
    "\n",
    "\n",
    "print(\"The Output is :\", Stab_histogram(D_input))\n",
    "\n",
    "\n",
    "print(\"\\nQuestion 3C\\n \")\n",
    "t_hold = np.log(1/Delta)/epsilon + 1\n",
    "\n",
    "print(\"The Threshold in step 7 of the algorithm is: \", t_hold)\n",
    "\n"
   ]
  },
  {
   "cell_type": "code",
   "execution_count": 120,
   "id": "d9e1ee05",
   "metadata": {},
   "outputs": [
    {
     "name": "stdout",
     "output_type": "stream",
     "text": [
      "Question 3c Answer\n",
      "\n",
      "All points of D do not appear in D` because the threshold is higher than ax\n"
     ]
    }
   ],
   "source": [
    "print(\"Question 3c Answer\\n\")\n",
    "\n",
    "print(\"All points of D do not appear in D` because the threshold is higher than ax\")\n",
    "\n",
    "#  Which points (rows) from D do not appear in D` and why?"
   ]
  },
  {
   "cell_type": "code",
   "execution_count": null,
   "id": "7b6e7503",
   "metadata": {},
   "outputs": [],
   "source": []
  }
 ],
 "metadata": {
  "kernelspec": {
   "display_name": "Python 3",
   "language": "python",
   "name": "python3"
  },
  "language_info": {
   "codemirror_mode": {
    "name": "ipython",
    "version": 3
   },
   "file_extension": ".py",
   "mimetype": "text/x-python",
   "name": "python",
   "nbconvert_exporter": "python",
   "pygments_lexer": "ipython3",
   "version": "3.8.8"
  }
 },
 "nbformat": 4,
 "nbformat_minor": 5
}
