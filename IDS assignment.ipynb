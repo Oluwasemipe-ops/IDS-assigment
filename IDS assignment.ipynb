{
 "cells": [
  {
   "cell_type": "code",
   "execution_count": 2,
   "id": "ethical-viewer",
   "metadata": {},
   "outputs": [
    {
     "name": "stdout",
     "output_type": "stream",
     "text": [
      "data shape: (32561, 15)\n",
      "number of rows: 32561\n",
      "number of cols: 15\n"
     ]
    }
   ],
   "source": [
    "import os\n",
    "import pandas as pd\n",
    "import numpy as np\n",
    "import matplotlib.pyplot as plt\n",
    "import seaborn as sns\n",
    "import time\n",
    "\n",
    "\n",
    "data = pd.read_csv(\"adult.data (1).csv\")\n",
    "print(\"data shape: \"+str(data.shape))\n",
    "print(\"number of rows: \"+str(data.shape[0]))\n",
    "print(\"number of cols: \"+str(data.shape[1]))"
   ]
  },
  {
   "cell_type": "code",
   "execution_count": 3,
   "id": "adult-execution",
   "metadata": {},
   "outputs": [
    {
     "name": "stdout",
     "output_type": "stream",
     "text": [
      "['age' 'workclass' 'fnlwgt' 'education' 'education-num' 'marital-status'\n",
      " 'occupation' 'house-serv' 'race' 'sex' 'capital-gain' 'capital-loss'\n",
      " 'hours-per-week' 'native-country' 'salary']\n"
     ]
    }
   ],
   "source": [
    "print(data.columns.values)"
   ]
  },
  {
   "cell_type": "code",
   "execution_count": 19,
   "id": "owned-headquarters",
   "metadata": {},
   "outputs": [
    {
     "name": "stdout",
     "output_type": "stream",
     "text": [
      "\n",
      "Result dataframe :\n",
      " Empty DataFrame\n",
      "Columns: [age, workclass, fnlwgt, education, education-num, marital-status, occupation, house-serv, race, sex, capital-gain, capital-loss, hours-per-week, native-country, salary]\n",
      "Index: []\n"
     ]
    }
   ],
   "source": [
    "options = ['Private', 'HS-grad', 'Married-civ-spouse', 'Black','Male']\n",
    "\n",
    "rslt_df = data.loc[data['age'] == 63]\n",
    "rslt_df_2 = rslt_df.loc[rslt_df['workclass'] == 'Private']\n",
    "  )"
   ]
  },
  {
   "cell_type": "code",
   "execution_count": null,
   "id": "distinct-egypt",
   "metadata": {},
   "outputs": [],
   "source": []
  },
  {
   "cell_type": "code",
   "execution_count": null,
   "id": "leading-hazard",
   "metadata": {},
   "outputs": [],
   "source": []
  }
 ],
 "metadata": {
  "kernelspec": {
   "display_name": "Python 3",
   "language": "python",
   "name": "python3"
  },
  "language_info": {
   "codemirror_mode": {
    "name": "ipython",
    "version": 3
   },
   "file_extension": ".py",
   "mimetype": "text/x-python",
   "name": "python",
   "nbconvert_exporter": "python",
   "pygments_lexer": "ipython3",
   "version": "3.9.0"
  }
 },
 "nbformat": 4,
 "nbformat_minor": 5
}
